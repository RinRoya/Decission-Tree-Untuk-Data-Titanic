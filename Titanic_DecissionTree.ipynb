{
 "cells": [
  {
   "cell_type": "markdown",
   "metadata": {},
   "source": [
    "# Oleh: Ridho Nur Rohman Wijaya"
   ]
  },
  {
   "cell_type": "markdown",
   "metadata": {},
   "source": [
    "# Import Modul"
   ]
  },
  {
   "cell_type": "code",
   "execution_count": 2,
   "metadata": {},
   "outputs": [],
   "source": [
    "from sklearn.tree import DecisionTreeClassifier\n",
    "from sklearn.preprocessing import MinMaxScaler\n",
    "from sklearn.model_selection import train_test_split\n",
    "from sklearn.metrics import accuracy_score\n",
    "import pandas as pd\n",
    "import numpy as np\n",
    "import matplotlib.pyplot as plt"
   ]
  },
  {
   "cell_type": "markdown",
   "metadata": {},
   "source": [
    "# Ambil Data"
   ]
  },
  {
   "cell_type": "code",
   "execution_count": 3,
   "metadata": {},
   "outputs": [],
   "source": [
    "df_train = pd.read_csv('train (1).csv')\n",
    "df_test = pd.read_csv('test (1).csv')"
   ]
  },
  {
   "cell_type": "code",
   "execution_count": 4,
   "metadata": {},
   "outputs": [
    {
     "data": {
      "text/html": [
       "<div>\n",
       "<style scoped>\n",
       "    .dataframe tbody tr th:only-of-type {\n",
       "        vertical-align: middle;\n",
       "    }\n",
       "\n",
       "    .dataframe tbody tr th {\n",
       "        vertical-align: top;\n",
       "    }\n",
       "\n",
       "    .dataframe thead th {\n",
       "        text-align: right;\n",
       "    }\n",
       "</style>\n",
       "<table border=\"1\" class=\"dataframe\">\n",
       "  <thead>\n",
       "    <tr style=\"text-align: right;\">\n",
       "      <th></th>\n",
       "      <th>PassengerId</th>\n",
       "      <th>Survived</th>\n",
       "      <th>Pclass</th>\n",
       "      <th>Name</th>\n",
       "      <th>Sex</th>\n",
       "      <th>Age</th>\n",
       "      <th>SibSp</th>\n",
       "      <th>Parch</th>\n",
       "      <th>Ticket</th>\n",
       "      <th>Fare</th>\n",
       "      <th>Cabin</th>\n",
       "      <th>Embarked</th>\n",
       "    </tr>\n",
       "  </thead>\n",
       "  <tbody>\n",
       "    <tr>\n",
       "      <th>0</th>\n",
       "      <td>1</td>\n",
       "      <td>0</td>\n",
       "      <td>3</td>\n",
       "      <td>Braund, Mr. Owen Harris</td>\n",
       "      <td>male</td>\n",
       "      <td>22.0</td>\n",
       "      <td>1</td>\n",
       "      <td>0</td>\n",
       "      <td>A/5 21171</td>\n",
       "      <td>7.2500</td>\n",
       "      <td>NaN</td>\n",
       "      <td>S</td>\n",
       "    </tr>\n",
       "    <tr>\n",
       "      <th>1</th>\n",
       "      <td>2</td>\n",
       "      <td>1</td>\n",
       "      <td>1</td>\n",
       "      <td>Cumings, Mrs. John Bradley (Florence Briggs Th...</td>\n",
       "      <td>female</td>\n",
       "      <td>38.0</td>\n",
       "      <td>1</td>\n",
       "      <td>0</td>\n",
       "      <td>PC 17599</td>\n",
       "      <td>71.2833</td>\n",
       "      <td>C85</td>\n",
       "      <td>C</td>\n",
       "    </tr>\n",
       "    <tr>\n",
       "      <th>2</th>\n",
       "      <td>3</td>\n",
       "      <td>1</td>\n",
       "      <td>3</td>\n",
       "      <td>Heikkinen, Miss. Laina</td>\n",
       "      <td>female</td>\n",
       "      <td>26.0</td>\n",
       "      <td>0</td>\n",
       "      <td>0</td>\n",
       "      <td>STON/O2. 3101282</td>\n",
       "      <td>7.9250</td>\n",
       "      <td>NaN</td>\n",
       "      <td>S</td>\n",
       "    </tr>\n",
       "    <tr>\n",
       "      <th>3</th>\n",
       "      <td>4</td>\n",
       "      <td>1</td>\n",
       "      <td>1</td>\n",
       "      <td>Futrelle, Mrs. Jacques Heath (Lily May Peel)</td>\n",
       "      <td>female</td>\n",
       "      <td>35.0</td>\n",
       "      <td>1</td>\n",
       "      <td>0</td>\n",
       "      <td>113803</td>\n",
       "      <td>53.1000</td>\n",
       "      <td>C123</td>\n",
       "      <td>S</td>\n",
       "    </tr>\n",
       "    <tr>\n",
       "      <th>4</th>\n",
       "      <td>5</td>\n",
       "      <td>0</td>\n",
       "      <td>3</td>\n",
       "      <td>Allen, Mr. William Henry</td>\n",
       "      <td>male</td>\n",
       "      <td>35.0</td>\n",
       "      <td>0</td>\n",
       "      <td>0</td>\n",
       "      <td>373450</td>\n",
       "      <td>8.0500</td>\n",
       "      <td>NaN</td>\n",
       "      <td>S</td>\n",
       "    </tr>\n",
       "  </tbody>\n",
       "</table>\n",
       "</div>"
      ],
      "text/plain": [
       "   PassengerId  Survived  Pclass  \\\n",
       "0            1         0       3   \n",
       "1            2         1       1   \n",
       "2            3         1       3   \n",
       "3            4         1       1   \n",
       "4            5         0       3   \n",
       "\n",
       "                                                Name     Sex   Age  SibSp  \\\n",
       "0                            Braund, Mr. Owen Harris    male  22.0      1   \n",
       "1  Cumings, Mrs. John Bradley (Florence Briggs Th...  female  38.0      1   \n",
       "2                             Heikkinen, Miss. Laina  female  26.0      0   \n",
       "3       Futrelle, Mrs. Jacques Heath (Lily May Peel)  female  35.0      1   \n",
       "4                           Allen, Mr. William Henry    male  35.0      0   \n",
       "\n",
       "   Parch            Ticket     Fare Cabin Embarked  \n",
       "0      0         A/5 21171   7.2500   NaN        S  \n",
       "1      0          PC 17599  71.2833   C85        C  \n",
       "2      0  STON/O2. 3101282   7.9250   NaN        S  \n",
       "3      0            113803  53.1000  C123        S  \n",
       "4      0            373450   8.0500   NaN        S  "
      ]
     },
     "execution_count": 4,
     "metadata": {},
     "output_type": "execute_result"
    }
   ],
   "source": [
    "df_train.head()"
   ]
  },
  {
   "cell_type": "code",
   "execution_count": 5,
   "metadata": {},
   "outputs": [
    {
     "data": {
      "text/html": [
       "<div>\n",
       "<style scoped>\n",
       "    .dataframe tbody tr th:only-of-type {\n",
       "        vertical-align: middle;\n",
       "    }\n",
       "\n",
       "    .dataframe tbody tr th {\n",
       "        vertical-align: top;\n",
       "    }\n",
       "\n",
       "    .dataframe thead th {\n",
       "        text-align: right;\n",
       "    }\n",
       "</style>\n",
       "<table border=\"1\" class=\"dataframe\">\n",
       "  <thead>\n",
       "    <tr style=\"text-align: right;\">\n",
       "      <th></th>\n",
       "      <th>PassengerId</th>\n",
       "      <th>Pclass</th>\n",
       "      <th>Name</th>\n",
       "      <th>Sex</th>\n",
       "      <th>Age</th>\n",
       "      <th>SibSp</th>\n",
       "      <th>Parch</th>\n",
       "      <th>Ticket</th>\n",
       "      <th>Fare</th>\n",
       "      <th>Cabin</th>\n",
       "      <th>Embarked</th>\n",
       "    </tr>\n",
       "  </thead>\n",
       "  <tbody>\n",
       "    <tr>\n",
       "      <th>0</th>\n",
       "      <td>892</td>\n",
       "      <td>3</td>\n",
       "      <td>Kelly, Mr. James</td>\n",
       "      <td>male</td>\n",
       "      <td>34.5</td>\n",
       "      <td>0</td>\n",
       "      <td>0</td>\n",
       "      <td>330911</td>\n",
       "      <td>7.8292</td>\n",
       "      <td>NaN</td>\n",
       "      <td>Q</td>\n",
       "    </tr>\n",
       "    <tr>\n",
       "      <th>1</th>\n",
       "      <td>893</td>\n",
       "      <td>3</td>\n",
       "      <td>Wilkes, Mrs. James (Ellen Needs)</td>\n",
       "      <td>female</td>\n",
       "      <td>47.0</td>\n",
       "      <td>1</td>\n",
       "      <td>0</td>\n",
       "      <td>363272</td>\n",
       "      <td>7.0000</td>\n",
       "      <td>NaN</td>\n",
       "      <td>S</td>\n",
       "    </tr>\n",
       "    <tr>\n",
       "      <th>2</th>\n",
       "      <td>894</td>\n",
       "      <td>2</td>\n",
       "      <td>Myles, Mr. Thomas Francis</td>\n",
       "      <td>male</td>\n",
       "      <td>62.0</td>\n",
       "      <td>0</td>\n",
       "      <td>0</td>\n",
       "      <td>240276</td>\n",
       "      <td>9.6875</td>\n",
       "      <td>NaN</td>\n",
       "      <td>Q</td>\n",
       "    </tr>\n",
       "    <tr>\n",
       "      <th>3</th>\n",
       "      <td>895</td>\n",
       "      <td>3</td>\n",
       "      <td>Wirz, Mr. Albert</td>\n",
       "      <td>male</td>\n",
       "      <td>27.0</td>\n",
       "      <td>0</td>\n",
       "      <td>0</td>\n",
       "      <td>315154</td>\n",
       "      <td>8.6625</td>\n",
       "      <td>NaN</td>\n",
       "      <td>S</td>\n",
       "    </tr>\n",
       "    <tr>\n",
       "      <th>4</th>\n",
       "      <td>896</td>\n",
       "      <td>3</td>\n",
       "      <td>Hirvonen, Mrs. Alexander (Helga E Lindqvist)</td>\n",
       "      <td>female</td>\n",
       "      <td>22.0</td>\n",
       "      <td>1</td>\n",
       "      <td>1</td>\n",
       "      <td>3101298</td>\n",
       "      <td>12.2875</td>\n",
       "      <td>NaN</td>\n",
       "      <td>S</td>\n",
       "    </tr>\n",
       "  </tbody>\n",
       "</table>\n",
       "</div>"
      ],
      "text/plain": [
       "   PassengerId  Pclass                                          Name     Sex  \\\n",
       "0          892       3                              Kelly, Mr. James    male   \n",
       "1          893       3              Wilkes, Mrs. James (Ellen Needs)  female   \n",
       "2          894       2                     Myles, Mr. Thomas Francis    male   \n",
       "3          895       3                              Wirz, Mr. Albert    male   \n",
       "4          896       3  Hirvonen, Mrs. Alexander (Helga E Lindqvist)  female   \n",
       "\n",
       "    Age  SibSp  Parch   Ticket     Fare Cabin Embarked  \n",
       "0  34.5      0      0   330911   7.8292   NaN        Q  \n",
       "1  47.0      1      0   363272   7.0000   NaN        S  \n",
       "2  62.0      0      0   240276   9.6875   NaN        Q  \n",
       "3  27.0      0      0   315154   8.6625   NaN        S  \n",
       "4  22.0      1      1  3101298  12.2875   NaN        S  "
      ]
     },
     "execution_count": 5,
     "metadata": {},
     "output_type": "execute_result"
    }
   ],
   "source": [
    "df_test.head()"
   ]
  },
  {
   "cell_type": "markdown",
   "metadata": {},
   "source": [
    "**Keterangan:** <br>\n",
    "Pada permasalahan ini, data test tidak digunakan, karena kebenarannya belum diketahui"
   ]
  },
  {
   "cell_type": "markdown",
   "metadata": {},
   "source": [
    "## Preprocessing Data Train"
   ]
  },
  {
   "cell_type": "markdown",
   "metadata": {},
   "source": [
    "### Cek data kosong"
   ]
  },
  {
   "cell_type": "code",
   "execution_count": 6,
   "metadata": {},
   "outputs": [
    {
     "name": "stdout",
     "output_type": "stream",
     "text": [
      "<class 'pandas.core.frame.DataFrame'>\n",
      "RangeIndex: 891 entries, 0 to 890\n",
      "Data columns (total 12 columns):\n",
      "PassengerId    891 non-null int64\n",
      "Survived       891 non-null int64\n",
      "Pclass         891 non-null int64\n",
      "Name           891 non-null object\n",
      "Sex            891 non-null object\n",
      "Age            714 non-null float64\n",
      "SibSp          891 non-null int64\n",
      "Parch          891 non-null int64\n",
      "Ticket         891 non-null object\n",
      "Fare           891 non-null float64\n",
      "Cabin          204 non-null object\n",
      "Embarked       889 non-null object\n",
      "dtypes: float64(2), int64(5), object(5)\n",
      "memory usage: 83.6+ KB\n"
     ]
    }
   ],
   "source": [
    "df_train.info()"
   ]
  },
  {
   "cell_type": "markdown",
   "metadata": {},
   "source": [
    "**Kesimpulan:**\n",
    "1. Isi kolom 'Age' dengan rata-rata atau median.\n",
    "2. Isi kolom 'Embarked' dengan data terbanyak atau data terkecil.\n",
    "3. Buang kolom 'Cabin', sebab terlalu banyak data kosong.\n",
    "4. Buang kolom 'PassengerId', 'Name', dan 'Tiket' karena tidak dibutuhkan."
   ]
  },
  {
   "cell_type": "code",
   "execution_count": 7,
   "metadata": {},
   "outputs": [
    {
     "data": {
      "text/html": [
       "<div>\n",
       "<style scoped>\n",
       "    .dataframe tbody tr th:only-of-type {\n",
       "        vertical-align: middle;\n",
       "    }\n",
       "\n",
       "    .dataframe tbody tr th {\n",
       "        vertical-align: top;\n",
       "    }\n",
       "\n",
       "    .dataframe thead th {\n",
       "        text-align: right;\n",
       "    }\n",
       "</style>\n",
       "<table border=\"1\" class=\"dataframe\">\n",
       "  <thead>\n",
       "    <tr style=\"text-align: right;\">\n",
       "      <th></th>\n",
       "      <th>Survived</th>\n",
       "      <th>Pclass</th>\n",
       "      <th>Sex</th>\n",
       "      <th>Age</th>\n",
       "      <th>SibSp</th>\n",
       "      <th>Parch</th>\n",
       "      <th>Fare</th>\n",
       "      <th>Embarked</th>\n",
       "    </tr>\n",
       "  </thead>\n",
       "  <tbody>\n",
       "    <tr>\n",
       "      <th>0</th>\n",
       "      <td>0</td>\n",
       "      <td>3</td>\n",
       "      <td>male</td>\n",
       "      <td>22.0</td>\n",
       "      <td>1</td>\n",
       "      <td>0</td>\n",
       "      <td>7.2500</td>\n",
       "      <td>S</td>\n",
       "    </tr>\n",
       "    <tr>\n",
       "      <th>1</th>\n",
       "      <td>1</td>\n",
       "      <td>1</td>\n",
       "      <td>female</td>\n",
       "      <td>38.0</td>\n",
       "      <td>1</td>\n",
       "      <td>0</td>\n",
       "      <td>71.2833</td>\n",
       "      <td>C</td>\n",
       "    </tr>\n",
       "    <tr>\n",
       "      <th>2</th>\n",
       "      <td>1</td>\n",
       "      <td>3</td>\n",
       "      <td>female</td>\n",
       "      <td>26.0</td>\n",
       "      <td>0</td>\n",
       "      <td>0</td>\n",
       "      <td>7.9250</td>\n",
       "      <td>S</td>\n",
       "    </tr>\n",
       "    <tr>\n",
       "      <th>3</th>\n",
       "      <td>1</td>\n",
       "      <td>1</td>\n",
       "      <td>female</td>\n",
       "      <td>35.0</td>\n",
       "      <td>1</td>\n",
       "      <td>0</td>\n",
       "      <td>53.1000</td>\n",
       "      <td>S</td>\n",
       "    </tr>\n",
       "    <tr>\n",
       "      <th>4</th>\n",
       "      <td>0</td>\n",
       "      <td>3</td>\n",
       "      <td>male</td>\n",
       "      <td>35.0</td>\n",
       "      <td>0</td>\n",
       "      <td>0</td>\n",
       "      <td>8.0500</td>\n",
       "      <td>S</td>\n",
       "    </tr>\n",
       "  </tbody>\n",
       "</table>\n",
       "</div>"
      ],
      "text/plain": [
       "   Survived  Pclass     Sex   Age  SibSp  Parch     Fare Embarked\n",
       "0         0       3    male  22.0      1      0   7.2500        S\n",
       "1         1       1  female  38.0      1      0  71.2833        C\n",
       "2         1       3  female  26.0      0      0   7.9250        S\n",
       "3         1       1  female  35.0      1      0  53.1000        S\n",
       "4         0       3    male  35.0      0      0   8.0500        S"
      ]
     },
     "execution_count": 7,
     "metadata": {},
     "output_type": "execute_result"
    }
   ],
   "source": [
    "df_train_new = df_train.drop(columns=[\"PassengerId\",\"Name\",\"Ticket\",\"Cabin\"])\n",
    "df_train_new.head()"
   ]
  },
  {
   "cell_type": "markdown",
   "metadata": {},
   "source": [
    "### Cek frekuensi data"
   ]
  },
  {
   "cell_type": "code",
   "execution_count": 8,
   "metadata": {},
   "outputs": [
    {
     "data": {
      "text/html": [
       "<div>\n",
       "<style scoped>\n",
       "    .dataframe tbody tr th:only-of-type {\n",
       "        vertical-align: middle;\n",
       "    }\n",
       "\n",
       "    .dataframe tbody tr th {\n",
       "        vertical-align: top;\n",
       "    }\n",
       "\n",
       "    .dataframe thead th {\n",
       "        text-align: right;\n",
       "    }\n",
       "</style>\n",
       "<table border=\"1\" class=\"dataframe\">\n",
       "  <thead>\n",
       "    <tr style=\"text-align: right;\">\n",
       "      <th></th>\n",
       "      <th>Survived</th>\n",
       "      <th>Pclass</th>\n",
       "      <th>Age</th>\n",
       "      <th>SibSp</th>\n",
       "      <th>Parch</th>\n",
       "      <th>Fare</th>\n",
       "    </tr>\n",
       "  </thead>\n",
       "  <tbody>\n",
       "    <tr>\n",
       "      <th>count</th>\n",
       "      <td>891.000000</td>\n",
       "      <td>891.000000</td>\n",
       "      <td>714.000000</td>\n",
       "      <td>891.000000</td>\n",
       "      <td>891.000000</td>\n",
       "      <td>891.000000</td>\n",
       "    </tr>\n",
       "    <tr>\n",
       "      <th>mean</th>\n",
       "      <td>0.383838</td>\n",
       "      <td>2.308642</td>\n",
       "      <td>29.699118</td>\n",
       "      <td>0.523008</td>\n",
       "      <td>0.381594</td>\n",
       "      <td>32.204208</td>\n",
       "    </tr>\n",
       "    <tr>\n",
       "      <th>std</th>\n",
       "      <td>0.486592</td>\n",
       "      <td>0.836071</td>\n",
       "      <td>14.526497</td>\n",
       "      <td>1.102743</td>\n",
       "      <td>0.806057</td>\n",
       "      <td>49.693429</td>\n",
       "    </tr>\n",
       "    <tr>\n",
       "      <th>min</th>\n",
       "      <td>0.000000</td>\n",
       "      <td>1.000000</td>\n",
       "      <td>0.420000</td>\n",
       "      <td>0.000000</td>\n",
       "      <td>0.000000</td>\n",
       "      <td>0.000000</td>\n",
       "    </tr>\n",
       "    <tr>\n",
       "      <th>25%</th>\n",
       "      <td>0.000000</td>\n",
       "      <td>2.000000</td>\n",
       "      <td>20.125000</td>\n",
       "      <td>0.000000</td>\n",
       "      <td>0.000000</td>\n",
       "      <td>7.910400</td>\n",
       "    </tr>\n",
       "    <tr>\n",
       "      <th>50%</th>\n",
       "      <td>0.000000</td>\n",
       "      <td>3.000000</td>\n",
       "      <td>28.000000</td>\n",
       "      <td>0.000000</td>\n",
       "      <td>0.000000</td>\n",
       "      <td>14.454200</td>\n",
       "    </tr>\n",
       "    <tr>\n",
       "      <th>75%</th>\n",
       "      <td>1.000000</td>\n",
       "      <td>3.000000</td>\n",
       "      <td>38.000000</td>\n",
       "      <td>1.000000</td>\n",
       "      <td>0.000000</td>\n",
       "      <td>31.000000</td>\n",
       "    </tr>\n",
       "    <tr>\n",
       "      <th>max</th>\n",
       "      <td>1.000000</td>\n",
       "      <td>3.000000</td>\n",
       "      <td>80.000000</td>\n",
       "      <td>8.000000</td>\n",
       "      <td>6.000000</td>\n",
       "      <td>512.329200</td>\n",
       "    </tr>\n",
       "  </tbody>\n",
       "</table>\n",
       "</div>"
      ],
      "text/plain": [
       "         Survived      Pclass         Age       SibSp       Parch        Fare\n",
       "count  891.000000  891.000000  714.000000  891.000000  891.000000  891.000000\n",
       "mean     0.383838    2.308642   29.699118    0.523008    0.381594   32.204208\n",
       "std      0.486592    0.836071   14.526497    1.102743    0.806057   49.693429\n",
       "min      0.000000    1.000000    0.420000    0.000000    0.000000    0.000000\n",
       "25%      0.000000    2.000000   20.125000    0.000000    0.000000    7.910400\n",
       "50%      0.000000    3.000000   28.000000    0.000000    0.000000   14.454200\n",
       "75%      1.000000    3.000000   38.000000    1.000000    0.000000   31.000000\n",
       "max      1.000000    3.000000   80.000000    8.000000    6.000000  512.329200"
      ]
     },
     "execution_count": 8,
     "metadata": {},
     "output_type": "execute_result"
    }
   ],
   "source": [
    "df_train_new.describe()"
   ]
  },
  {
   "cell_type": "code",
   "execution_count": 9,
   "metadata": {},
   "outputs": [
    {
     "data": {
      "text/plain": [
       "S    644\n",
       "C    168\n",
       "Q     77\n",
       "Name: Embarked, dtype: int64"
      ]
     },
     "execution_count": 9,
     "metadata": {},
     "output_type": "execute_result"
    }
   ],
   "source": [
    "df_train_new.Embarked.value_counts()"
   ]
  },
  {
   "cell_type": "markdown",
   "metadata": {},
   "source": [
    "### Isi data kosong"
   ]
  },
  {
   "cell_type": "markdown",
   "metadata": {},
   "source": [
    "Terdapat 4 kombinasi pengisian data yaitu:\n",
    "1. Age rata-rata dan Embarked terbanyak\n",
    "2. Age rata-rata dan Embarked terkecil\n",
    "3. Age median dan Embarked terbanyak\n",
    "4. Age median dan Embarked terkecil"
   ]
  },
  {
   "cell_type": "code",
   "execution_count": 10,
   "metadata": {},
   "outputs": [],
   "source": [
    "df_train_new_kombinasi1 = df_train_new.fillna(value={\"Age\" : df_train_new.Age.mean(), \"Embarked\" : \"S\"})\n",
    "df_train_new_kombinasi2 = df_train_new.fillna(value={\"Age\" : df_train_new.Age.mean(), \"Embarked\" : \"Q\"})\n",
    "df_train_new_kombinasi3 = df_train_new.fillna(value={\"Age\" : df_train_new.Age.median(), \"Embarked\" : \"S\"})\n",
    "df_train_new_kombinasi4 = df_train_new.fillna(value={\"Age\" : df_train_new.Age.median(), \"Embarked\" : \"Q\"})"
   ]
  },
  {
   "cell_type": "code",
   "execution_count": 11,
   "metadata": {},
   "outputs": [
    {
     "data": {
      "text/html": [
       "<div>\n",
       "<style scoped>\n",
       "    .dataframe tbody tr th:only-of-type {\n",
       "        vertical-align: middle;\n",
       "    }\n",
       "\n",
       "    .dataframe tbody tr th {\n",
       "        vertical-align: top;\n",
       "    }\n",
       "\n",
       "    .dataframe thead th {\n",
       "        text-align: right;\n",
       "    }\n",
       "</style>\n",
       "<table border=\"1\" class=\"dataframe\">\n",
       "  <thead>\n",
       "    <tr style=\"text-align: right;\">\n",
       "      <th></th>\n",
       "      <th>Survived</th>\n",
       "      <th>Pclass</th>\n",
       "      <th>Sex</th>\n",
       "      <th>Age</th>\n",
       "      <th>SibSp</th>\n",
       "      <th>Parch</th>\n",
       "      <th>Fare</th>\n",
       "      <th>Embarked</th>\n",
       "    </tr>\n",
       "  </thead>\n",
       "  <tbody>\n",
       "    <tr>\n",
       "      <th>0</th>\n",
       "      <td>0</td>\n",
       "      <td>3</td>\n",
       "      <td>male</td>\n",
       "      <td>22.0</td>\n",
       "      <td>1</td>\n",
       "      <td>0</td>\n",
       "      <td>7.2500</td>\n",
       "      <td>S</td>\n",
       "    </tr>\n",
       "    <tr>\n",
       "      <th>1</th>\n",
       "      <td>1</td>\n",
       "      <td>1</td>\n",
       "      <td>female</td>\n",
       "      <td>38.0</td>\n",
       "      <td>1</td>\n",
       "      <td>0</td>\n",
       "      <td>71.2833</td>\n",
       "      <td>C</td>\n",
       "    </tr>\n",
       "    <tr>\n",
       "      <th>2</th>\n",
       "      <td>1</td>\n",
       "      <td>3</td>\n",
       "      <td>female</td>\n",
       "      <td>26.0</td>\n",
       "      <td>0</td>\n",
       "      <td>0</td>\n",
       "      <td>7.9250</td>\n",
       "      <td>S</td>\n",
       "    </tr>\n",
       "  </tbody>\n",
       "</table>\n",
       "</div>"
      ],
      "text/plain": [
       "   Survived  Pclass     Sex   Age  SibSp  Parch     Fare Embarked\n",
       "0         0       3    male  22.0      1      0   7.2500        S\n",
       "1         1       1  female  38.0      1      0  71.2833        C\n",
       "2         1       3  female  26.0      0      0   7.9250        S"
      ]
     },
     "execution_count": 11,
     "metadata": {},
     "output_type": "execute_result"
    }
   ],
   "source": [
    "# Cek data\n",
    "df_train_new_kombinasi1.head(3)"
   ]
  },
  {
   "cell_type": "markdown",
   "metadata": {},
   "source": [
    "#### Encode data non numerik"
   ]
  },
  {
   "cell_type": "code",
   "execution_count": 12,
   "metadata": {},
   "outputs": [],
   "source": [
    "df_train_new_kombinasi1 = pd.get_dummies(df_train_new_kombinasi1)\n",
    "df_train_new_kombinasi2 = pd.get_dummies(df_train_new_kombinasi2)\n",
    "df_train_new_kombinasi3 = pd.get_dummies(df_train_new_kombinasi3)\n",
    "df_train_new_kombinasi4 = pd.get_dummies(df_train_new_kombinasi4)"
   ]
  },
  {
   "cell_type": "code",
   "execution_count": 13,
   "metadata": {},
   "outputs": [
    {
     "data": {
      "text/html": [
       "<div>\n",
       "<style scoped>\n",
       "    .dataframe tbody tr th:only-of-type {\n",
       "        vertical-align: middle;\n",
       "    }\n",
       "\n",
       "    .dataframe tbody tr th {\n",
       "        vertical-align: top;\n",
       "    }\n",
       "\n",
       "    .dataframe thead th {\n",
       "        text-align: right;\n",
       "    }\n",
       "</style>\n",
       "<table border=\"1\" class=\"dataframe\">\n",
       "  <thead>\n",
       "    <tr style=\"text-align: right;\">\n",
       "      <th></th>\n",
       "      <th>Survived</th>\n",
       "      <th>Pclass</th>\n",
       "      <th>Age</th>\n",
       "      <th>SibSp</th>\n",
       "      <th>Parch</th>\n",
       "      <th>Fare</th>\n",
       "      <th>Sex_female</th>\n",
       "      <th>Sex_male</th>\n",
       "      <th>Embarked_C</th>\n",
       "      <th>Embarked_Q</th>\n",
       "      <th>Embarked_S</th>\n",
       "    </tr>\n",
       "  </thead>\n",
       "  <tbody>\n",
       "    <tr>\n",
       "      <th>0</th>\n",
       "      <td>0</td>\n",
       "      <td>3</td>\n",
       "      <td>22.0</td>\n",
       "      <td>1</td>\n",
       "      <td>0</td>\n",
       "      <td>7.2500</td>\n",
       "      <td>0</td>\n",
       "      <td>1</td>\n",
       "      <td>0</td>\n",
       "      <td>0</td>\n",
       "      <td>1</td>\n",
       "    </tr>\n",
       "    <tr>\n",
       "      <th>1</th>\n",
       "      <td>1</td>\n",
       "      <td>1</td>\n",
       "      <td>38.0</td>\n",
       "      <td>1</td>\n",
       "      <td>0</td>\n",
       "      <td>71.2833</td>\n",
       "      <td>1</td>\n",
       "      <td>0</td>\n",
       "      <td>1</td>\n",
       "      <td>0</td>\n",
       "      <td>0</td>\n",
       "    </tr>\n",
       "    <tr>\n",
       "      <th>2</th>\n",
       "      <td>1</td>\n",
       "      <td>3</td>\n",
       "      <td>26.0</td>\n",
       "      <td>0</td>\n",
       "      <td>0</td>\n",
       "      <td>7.9250</td>\n",
       "      <td>1</td>\n",
       "      <td>0</td>\n",
       "      <td>0</td>\n",
       "      <td>0</td>\n",
       "      <td>1</td>\n",
       "    </tr>\n",
       "  </tbody>\n",
       "</table>\n",
       "</div>"
      ],
      "text/plain": [
       "   Survived  Pclass   Age  SibSp  Parch     Fare  Sex_female  Sex_male  \\\n",
       "0         0       3  22.0      1      0   7.2500           0         1   \n",
       "1         1       1  38.0      1      0  71.2833           1         0   \n",
       "2         1       3  26.0      0      0   7.9250           1         0   \n",
       "\n",
       "   Embarked_C  Embarked_Q  Embarked_S  \n",
       "0           0           0           1  \n",
       "1           1           0           0  \n",
       "2           0           0           1  "
      ]
     },
     "execution_count": 13,
     "metadata": {},
     "output_type": "execute_result"
    }
   ],
   "source": [
    "# Cek data\n",
    "df_train_new_kombinasi1.head(3)"
   ]
  },
  {
   "cell_type": "markdown",
   "metadata": {},
   "source": [
    "# Buat Model Decission Tree Sederhana"
   ]
  },
  {
   "cell_type": "markdown",
   "metadata": {},
   "source": [
    "### Persiapan Data"
   ]
  },
  {
   "cell_type": "code",
   "execution_count": 14,
   "metadata": {},
   "outputs": [],
   "source": [
    "features_kombinasi1 = df_train_new_kombinasi1.iloc[:,1:].values\n",
    "target_kombinasi1 = df_train_new_kombinasi1.iloc[:,0].values\n",
    "\n",
    "features_kombinasi2 = df_train_new_kombinasi1.iloc[:,1:].values\n",
    "target_kombinasi2 = df_train_new_kombinasi1.iloc[:,0].values\n",
    "\n",
    "features_kombinasi3 = df_train_new_kombinasi1.iloc[:,1:].values\n",
    "target_kombinasi3 = df_train_new_kombinasi1.iloc[:,0].values\n",
    "\n",
    "features_kombinasi4 = df_train_new_kombinasi1.iloc[:,1:].values\n",
    "target_kombinasi4 = df_train_new_kombinasi1.iloc[:,0].values"
   ]
  },
  {
   "cell_type": "markdown",
   "metadata": {},
   "source": [
    "#### Bagi data latih dan validasi"
   ]
  },
  {
   "cell_type": "code",
   "execution_count": 15,
   "metadata": {},
   "outputs": [],
   "source": [
    "x_train1, x_valid1, y_train1, y_valid1 = train_test_split(features_kombinasi1, target_kombinasi1, test_size=0.2, random_state=42)\n",
    "x_train2, x_valid2, y_train2, y_valid2 = train_test_split(features_kombinasi2, target_kombinasi2, test_size=0.2, random_state=42)\n",
    "x_train3, x_valid3, y_train3, y_valid3 = train_test_split(features_kombinasi3, target_kombinasi3, test_size=0.2, random_state=42)\n",
    "x_train4, x_valid4, y_train4, y_valid4 = train_test_split(features_kombinasi4, target_kombinasi4, test_size=0.2, random_state=42)"
   ]
  },
  {
   "cell_type": "markdown",
   "metadata": {},
   "source": [
    "### Buat Model"
   ]
  },
  {
   "cell_type": "code",
   "execution_count": 16,
   "metadata": {},
   "outputs": [
    {
     "data": {
      "text/plain": [
       "DecisionTreeClassifier(random_state=42)"
      ]
     },
     "execution_count": 16,
     "metadata": {},
     "output_type": "execute_result"
    }
   ],
   "source": [
    "model1 = DecisionTreeClassifier(random_state=42)\n",
    "model1.fit(x_train1, y_train1)\n",
    "\n",
    "model2 = DecisionTreeClassifier(random_state=42)\n",
    "model2.fit(x_train2, y_train2)\n",
    "\n",
    "model3 = DecisionTreeClassifier(random_state=42)\n",
    "model3.fit(x_train3, y_train3)\n",
    "\n",
    "model4 = DecisionTreeClassifier(random_state=42)\n",
    "model4.fit(x_train4, y_train4)"
   ]
  },
  {
   "cell_type": "markdown",
   "metadata": {},
   "source": [
    "### Prediksi"
   ]
  },
  {
   "cell_type": "code",
   "execution_count": 17,
   "metadata": {},
   "outputs": [],
   "source": [
    "y_pred1 = model1.predict(x_valid1)\n",
    "y_pred2 = model2.predict(x_valid2)\n",
    "y_pred3 = model3.predict(x_valid3)\n",
    "y_pred4 = model4.predict(x_valid4)\n",
    "\n",
    "acc1 = accuracy_score(y_valid1, y_pred1)\n",
    "acc2 = accuracy_score(y_valid2, y_pred2)\n",
    "acc3 = accuracy_score(y_valid3, y_pred3)\n",
    "acc4 = accuracy_score(y_valid4, y_pred4)\n",
    "\n",
    "acc_valid = [acc1, acc2, acc3, acc4]"
   ]
  },
  {
   "cell_type": "markdown",
   "metadata": {},
   "source": [
    "### Cek hasil prediksi dan visualisasi"
   ]
  },
  {
   "cell_type": "code",
   "execution_count": 18,
   "metadata": {},
   "outputs": [
    {
     "data": {
      "image/png": "[encoded data removed]",
      "text/plain": [
       "<Figure size 720x432 with 1 Axes>"
      ]
     },
     "metadata": {
      "needs_background": "light"
     },
     "output_type": "display_data"
    }
   ],
   "source": [
    "plt.figure(figsize=(10,6))\n",
    "xlabels = [\"Age mean \\n Embarked at most\", \"Age mean \\n Embarked at least\", \n",
    "           \"Age median \\n Embarked at most\", \"Age median \\n Embarked at least\"]\n",
    "for i in range(len(xlabels)):\n",
    "    plt.bar(xlabels[i], acc_valid[i])\n",
    "    plt.text(i-0.1, acc_valid[i]+0.01, round(acc_valid[i], 4))\n",
    "\n",
    "plt.ylim([0,1])\n",
    "plt.title(\"Model Decission Tree Sederhana\")\n",
    "plt.ylabel(\"Akurasi\")\n",
    "plt.xlabel(\"\\nKombinasi Pengisian Data Kosong\")\n",
    "plt.show()"
   ]
  },
  {
   "cell_type": "markdown",
   "metadata": {},
   "source": [
    "**Kesimpulan:** <br>\n",
    "Dari 4 kombinasi pengisian data kosong yang ada, hasil akurasi tetap sama, jadi perbedaan pengisian tidak terlalu berpengaruh. Hasil prediksinya yaitu 78,77%"
   ]
  },
  {
   "cell_type": "markdown",
   "metadata": {},
   "source": [
    "# Buat Model Decission Tree Sederhana dengan Data Normalisasi"
   ]
  },
  {
   "cell_type": "markdown",
   "metadata": {},
   "source": [
    "### Persiapan Data"
   ]
  },
  {
   "cell_type": "markdown",
   "metadata": {},
   "source": [
    "#### Normalisasi"
   ]
  },
  {
   "cell_type": "code",
   "execution_count": 19,
   "metadata": {},
   "outputs": [],
   "source": [
    "scaler1 = MinMaxScaler()\n",
    "data_kombinasi1_scaler = scaler1.fit_transform(df_train_new_kombinasi1)\n",
    "\n",
    "scaler2 = MinMaxScaler()\n",
    "data_kombinasi2_scaler = scaler2.fit_transform(df_train_new_kombinasi2)\n",
    "\n",
    "scaler3 = MinMaxScaler()\n",
    "data_kombinasi3_scaler = scaler3.fit_transform(df_train_new_kombinasi3)\n",
    "\n",
    "scaler4 = MinMaxScaler()\n",
    "data_kombinasi4_scaler = scaler4.fit_transform(df_train_new_kombinasi4)"
   ]
  },
  {
   "cell_type": "code",
   "execution_count": 20,
   "metadata": {},
   "outputs": [],
   "source": [
    "features_kombinasi1_sc = data_kombinasi1_scaler[:,1:]\n",
    "target_kombinasi1_sc = data_kombinasi1_scaler[:,0]\n",
    "\n",
    "features_kombinasi2_sc = data_kombinasi2_scaler[:,1:]\n",
    "target_kombinasi2_sc = data_kombinasi2_scaler[:,0]\n",
    "\n",
    "features_kombinasi3_sc = data_kombinasi3_scaler[:,1:]\n",
    "target_kombinasi3_sc = data_kombinasi3_scaler[:,0]\n",
    "\n",
    "features_kombinasi4_sc = data_kombinasi4_scaler[:,1:]\n",
    "target_kombinasi4_sc = data_kombinasi4_scaler[:,0]"
   ]
  },
  {
   "cell_type": "markdown",
   "metadata": {},
   "source": [
    "#### Bagi data latih dan validasi"
   ]
  },
  {
   "cell_type": "code",
   "execution_count": 21,
   "metadata": {},
   "outputs": [],
   "source": [
    "x_train1_sc, x_valid1_sc, y_train1_sc, y_valid1_sc = train_test_split(features_kombinasi1_sc, target_kombinasi1_sc, test_size=0.2, random_state=42)\n",
    "x_train2_sc, x_valid2_sc, y_train2_sc, y_valid2_sc = train_test_split(features_kombinasi2_sc, target_kombinasi2_sc, test_size=0.2, random_state=42)\n",
    "x_train3_sc, x_valid3_sc, y_train3_sc, y_valid3_sc = train_test_split(features_kombinasi3_sc, target_kombinasi3_sc, test_size=0.2, random_state=42)\n",
    "x_train4_sc, x_valid4_sc, y_train4_sc, y_valid4_sc = train_test_split(features_kombinasi4_sc, target_kombinasi4_sc, test_size=0.2, random_state=42)"
   ]
  },
  {
   "cell_type": "markdown",
   "metadata": {},
   "source": [
    "### Buat Model"
   ]
  },
  {
   "cell_type": "code",
   "execution_count": 22,
   "metadata": {},
   "outputs": [
    {
     "data": {
      "text/plain": [
       "DecisionTreeClassifier(random_state=42)"
      ]
     },
     "execution_count": 22,
     "metadata": {},
     "output_type": "execute_result"
    }
   ],
   "source": [
    "model1_sc = DecisionTreeClassifier(random_state=42)\n",
    "model1_sc.fit(x_train1_sc, y_train1_sc)\n",
    "\n",
    "model2_sc = DecisionTreeClassifier(random_state=42)\n",
    "model2_sc.fit(x_train2_sc, y_train2_sc)\n",
    "\n",
    "model3_sc = DecisionTreeClassifier(random_state=42)\n",
    "model3_sc.fit(x_train3_sc, y_train3_sc)\n",
    "\n",
    "model4_sc = DecisionTreeClassifier(random_state=42)\n",
    "model4_sc.fit(x_train4_sc, y_train4_sc)"
   ]
  },
  {
   "cell_type": "markdown",
   "metadata": {},
   "source": [
    "### Prediksi"
   ]
  },
  {
   "cell_type": "code",
   "execution_count": 23,
   "metadata": {},
   "outputs": [],
   "source": [
    "y_pred1_sc = model1_sc.predict(x_valid1_sc)\n",
    "y_pred2_sc = model2_sc.predict(x_valid2_sc)\n",
    "y_pred3_sc = model3_sc.predict(x_valid3_sc)\n",
    "y_pred4_sc = model4_sc.predict(x_valid4_sc)\n",
    "\n",
    "acc1_sc = accuracy_score(y_valid1_sc, y_pred1_sc)\n",
    "acc2_sc = accuracy_score(y_valid2_sc, y_pred2_sc)\n",
    "acc3_sc = accuracy_score(y_valid3_sc, y_pred3_sc)\n",
    "acc4_sc = accuracy_score(y_valid4_sc, y_pred4_sc)\n",
    "\n",
    "acc_valid_sc = [acc1_sc, acc2_sc, acc3_sc, acc4_sc]"
   ]
  },
  {
   "cell_type": "markdown",
   "metadata": {},
   "source": [
    "### Cek hasil prediksi dan visualisasi"
   ]
  },
  {
   "cell_type": "code",
   "execution_count": 24,
   "metadata": {},
   "outputs": [
    {
     "data": {
      "image/png": "[encoded data removed]",
      "text/plain": [
       "<Figure size 720x432 with 1 Axes>"
      ]
     },
     "metadata": {
      "needs_background": "light"
     },
     "output_type": "display_data"
    }
   ],
   "source": [
    "plt.figure(figsize=(10,6))\n",
    "xlabels = [\"Age mean \\n Embarked at most\", \"Age mean \\n Embarked at least\", \n",
    "           \"Age median \\n Embarked at most\", \"Age median \\n Embarked at least\"]\n",
    "for i in range(len(xlabels)):\n",
    "    plt.bar(xlabels[i], acc_valid_sc[i])\n",
    "    plt.text(i-0.1, acc_valid_sc[i]+0.01, round(acc_valid_sc[i], 4))\n",
    "\n",
    "plt.ylim([0,1])\n",
    "plt.title(\"Model Decission Tree Sederhana dengan Data Normalisasi\")\n",
    "plt.ylabel(\"Akurasi\")\n",
    "plt.xlabel(\"\\nKombinasi Pengisian Data Kosong\")\n",
    "plt.show()"
   ]
  },
  {
   "cell_type": "markdown",
   "metadata": {},
   "source": [
    "**Kesimpulan:** <br>\n",
    "Dari 4 kombinasi pengisian data kosong yang ada dengan data normalisasi, prediksi paling bagus adalah saat pengisian kolom Age dengan rata-rata dan Embarked dengan yang paling banyak. Hasil prediksinya yaitu 78,77%"
   ]
  },
  {
   "cell_type": "markdown",
   "metadata": {},
   "source": [
    "# Optimasi Model Decission Tree dengan Data Normalisasi\n",
    "Data yang dipakai adalah pengisian 'Age\" rata-rata dan 'Embarked' Terbanyak hasil normalisasi"
   ]
  },
  {
   "cell_type": "markdown",
   "metadata": {},
   "source": [
    "### Persiapan Data"
   ]
  },
  {
   "cell_type": "code",
   "execution_count": 25,
   "metadata": {},
   "outputs": [],
   "source": [
    "x_train_fix = x_train1_sc.copy()\n",
    "x_valid_fix = x_valid1_sc.copy()\n",
    "y_train_fix = y_train1_sc.copy()\n",
    "y_valid_fix = y_valid1_sc.copy()"
   ]
  },
  {
   "cell_type": "markdown",
   "metadata": {},
   "source": [
    "### Buat Model\n",
    "Optimasi model meninjau 'max_depth' dan 'min_samples_split'"
   ]
  },
  {
   "cell_type": "markdown",
   "metadata": {},
   "source": [
    "#### Optimasi Max Depth"
   ]
  },
  {
   "cell_type": "code",
   "execution_count": 26,
   "metadata": {},
   "outputs": [
    {
     "data": {
      "text/plain": [
       "DecisionTreeClassifier(max_depth=11, random_state=42)"
      ]
     },
     "execution_count": 26,
     "metadata": {},
     "output_type": "execute_result"
    }
   ],
   "source": [
    "model_depth1 = DecisionTreeClassifier(max_depth=3, random_state=42)\n",
    "model_depth1.fit(x_train_fix, y_train_fix)\n",
    "\n",
    "model_depth2 = DecisionTreeClassifier(max_depth=5, random_state=42)\n",
    "model_depth2.fit(x_train_fix, y_train_fix)\n",
    "\n",
    "model_depth3 = DecisionTreeClassifier(max_depth=7, random_state=42)\n",
    "model_depth3.fit(x_train_fix, y_train_fix)\n",
    "\n",
    "model_depth4 = DecisionTreeClassifier(max_depth=9, random_state=42)\n",
    "model_depth4.fit(x_train_fix, y_train_fix)\n",
    "\n",
    "model_depth5 = DecisionTreeClassifier(max_depth=11, random_state=42)\n",
    "model_depth5.fit(x_train_fix, y_train_fix)"
   ]
  },
  {
   "cell_type": "markdown",
   "metadata": {},
   "source": [
    "#### Optimasi Min Samples Split"
   ]
  },
  {
   "cell_type": "code",
   "execution_count": 27,
   "metadata": {},
   "outputs": [
    {
     "data": {
      "text/plain": [
       "DecisionTreeClassifier(min_samples_split=17, random_state=42)"
      ]
     },
     "execution_count": 27,
     "metadata": {},
     "output_type": "execute_result"
    }
   ],
   "source": [
    "model_minsplit1 = DecisionTreeClassifier(min_samples_split=3, random_state=42)\n",
    "model_minsplit1.fit(x_train_fix, y_train_fix)\n",
    "\n",
    "model_minsplit2 = DecisionTreeClassifier(min_samples_split=7, random_state=42)\n",
    "model_minsplit2.fit(x_train_fix, y_train_fix)\n",
    "\n",
    "model_minsplit3 = DecisionTreeClassifier(min_samples_split=9, random_state=42)\n",
    "model_minsplit3.fit(x_train_fix, y_train_fix)\n",
    "\n",
    "model_minsplit4 = DecisionTreeClassifier(min_samples_split=13, random_state=42)\n",
    "model_minsplit4.fit(x_train_fix, y_train_fix)\n",
    "\n",
    "model_minsplit5 = DecisionTreeClassifier(min_samples_split=17, random_state=42)\n",
    "model_minsplit5.fit(x_train_fix, y_train_fix)"
   ]
  },
  {
   "cell_type": "markdown",
   "metadata": {},
   "source": [
    "#### Optimasi Max Depth dan Min Samples Split"
   ]
  },
  {
   "cell_type": "code",
   "execution_count": 28,
   "metadata": {},
   "outputs": [
    {
     "data": {
      "text/plain": [
       "DecisionTreeClassifier(max_depth=7, min_samples_split=17, random_state=42)"
      ]
     },
     "execution_count": 28,
     "metadata": {},
     "output_type": "execute_result"
    }
   ],
   "source": [
    "model_dept_split1 = DecisionTreeClassifier(max_depth=5, min_samples_split=13, random_state=42)\n",
    "model_dept_split1.fit(x_train_fix, y_train_fix)\n",
    "\n",
    "model_dept_split2 = DecisionTreeClassifier(max_depth=5, min_samples_split=17, random_state=42)\n",
    "model_dept_split2.fit(x_train_fix, y_train_fix)\n",
    "\n",
    "model_dept_split3 = DecisionTreeClassifier(max_depth=7, min_samples_split=13, random_state=42)\n",
    "model_dept_split3.fit(x_train_fix, y_train_fix)\n",
    "\n",
    "model_dept_split4 = DecisionTreeClassifier(max_depth=7, min_samples_split=17, random_state=42)\n",
    "model_dept_split4.fit(x_train_fix, y_train_fix)"
   ]
  },
  {
   "cell_type": "markdown",
   "metadata": {},
   "source": [
    "### Prediksi"
   ]
  },
  {
   "cell_type": "markdown",
   "metadata": {},
   "source": [
    "#### Prediksi Optimasi Max Depth"
   ]
  },
  {
   "cell_type": "code",
   "execution_count": 29,
   "metadata": {},
   "outputs": [],
   "source": [
    "y_pred_depth1 = model_depth1.predict(x_valid_fix)\n",
    "y_pred_depth2 = model_depth2.predict(x_valid_fix)\n",
    "y_pred_depth3 = model_depth3.predict(x_valid_fix)\n",
    "y_pred_depth4 = model_depth4.predict(x_valid_fix)\n",
    "y_pred_depth5 = model_depth5.predict(x_valid_fix)\n",
    "\n",
    "acc_depth1 = accuracy_score(y_valid_fix, y_pred_depth1)\n",
    "acc_depth2 = accuracy_score(y_valid_fix, y_pred_depth2)\n",
    "acc_depth3 = accuracy_score(y_valid_fix, y_pred_depth3)\n",
    "acc_depth4 = accuracy_score(y_valid_fix, y_pred_depth4)\n",
    "acc_depth5 = accuracy_score(y_valid_fix, y_pred_depth5)\n",
    "\n",
    "acc_valid_depth = [acc_depth1, acc_depth2, acc_depth3, acc_depth4, acc_depth5]"
   ]
  },
  {
   "cell_type": "markdown",
   "metadata": {},
   "source": [
    "#### Prediksi Optimasi Min Samples Split"
   ]
  },
  {
   "cell_type": "code",
   "execution_count": 30,
   "metadata": {},
   "outputs": [],
   "source": [
    "y_pred_minsplit1 = model_minsplit1.predict(x_valid_fix)\n",
    "y_pred_minsplit2 = model_minsplit2.predict(x_valid_fix)\n",
    "y_pred_minsplit3 = model_minsplit3.predict(x_valid_fix)\n",
    "y_pred_minsplit4 = model_minsplit4.predict(x_valid_fix)\n",
    "y_pred_minsplit5 = model_minsplit5.predict(x_valid_fix)\n",
    "\n",
    "acc_minsplit1 = accuracy_score(y_valid_fix, y_pred_minsplit1)\n",
    "acc_minsplit2 = accuracy_score(y_valid_fix, y_pred_minsplit2)\n",
    "acc_minsplit3 = accuracy_score(y_valid_fix, y_pred_minsplit3)\n",
    "acc_minsplit4 = accuracy_score(y_valid_fix, y_pred_minsplit4)\n",
    "acc_minsplit5 = accuracy_score(y_valid_fix, y_pred_minsplit5)\n",
    "\n",
    "acc_valid_minsplit = [acc_minsplit1, acc_minsplit2, acc_minsplit3, acc_minsplit4, acc_minsplit5]"
   ]
  },
  {
   "cell_type": "markdown",
   "metadata": {},
   "source": [
    "#### Optimasi Max Depth dan Min Samples Split"
   ]
  },
  {
   "cell_type": "code",
   "execution_count": 31,
   "metadata": {},
   "outputs": [],
   "source": [
    "y_pred_dept_split1 = model_dept_split1.predict(x_valid_fix)\n",
    "y_pred_dept_split2 = model_dept_split2.predict(x_valid_fix)\n",
    "y_pred_dept_split3 = model_dept_split3.predict(x_valid_fix)\n",
    "y_pred_dept_split4 = model_dept_split4.predict(x_valid_fix)\n",
    "\n",
    "acc_dept_split1 = accuracy_score(y_valid_fix, y_pred_dept_split1)\n",
    "acc_dept_split2 = accuracy_score(y_valid_fix, y_pred_dept_split2)\n",
    "acc_dept_split3 = accuracy_score(y_valid_fix, y_pred_dept_split3)\n",
    "acc_dept_split4 = accuracy_score(y_valid_fix, y_pred_dept_split4)\n",
    "\n",
    "acc_valid_dept_split = [acc_dept_split1, acc_dept_split2, acc_dept_split3, acc_dept_split4]"
   ]
  },
  {
   "cell_type": "markdown",
   "metadata": {},
   "source": [
    "### Cek hasil prediksi dan visualisasi"
   ]
  },
  {
   "cell_type": "markdown",
   "metadata": {},
   "source": [
    "#### Visualisasi Prediksi Optimasi Max Depth"
   ]
  },
  {
   "cell_type": "code",
   "execution_count": 32,
   "metadata": {},
   "outputs": [
    {
     "data": {
      "image/png": "[encoded data removed]",
      "text/plain": [
       "<Figure size 720x432 with 1 Axes>"
      ]
     },
     "metadata": {
      "needs_background": "light"
     },
     "output_type": "display_data"
    }
   ],
   "source": [
    "plt.figure(figsize=(10,6))\n",
    "xlabels = [\"3\", \"5\", \"7\", \"9\", \"11\"]\n",
    "for i in range(len(xlabels)):\n",
    "    plt.bar(xlabels[i], acc_valid_depth[i])\n",
    "    plt.text(i-0.14, acc_valid_depth[i]+0.01, round(acc_valid_depth[i], 4))\n",
    "\n",
    "plt.ylim([0,1])\n",
    "plt.title(\"Model Decission Tree Optimasi\")\n",
    "plt.ylabel(\"Akurasi\")\n",
    "plt.xlabel(\"\\nMax Depth\")\n",
    "plt.show()"
   ]
  },
  {
   "cell_type": "markdown",
   "metadata": {},
   "source": [
    "**Kesimpulan:** <br>\n",
    "Prediksi paling bagus saat Max Depth nya 7 yaitu 81,01%"
   ]
  },
  {
   "cell_type": "markdown",
   "metadata": {},
   "source": [
    "#### Visualisasi Prediksi Optimasi Min Samples Split"
   ]
  },
  {
   "cell_type": "code",
   "execution_count": 33,
   "metadata": {},
   "outputs": [
    {
     "data": {
      "image/png": "[encoded data removed]",
      "text/plain": [
       "<Figure size 720x432 with 1 Axes>"
      ]
     },
     "metadata": {
      "needs_background": "light"
     },
     "output_type": "display_data"
    }
   ],
   "source": [
    "plt.figure(figsize=(10,6))\n",
    "xlabels = [\"3\", \"7\", \"9\", \"13\", \"17\"]\n",
    "for i in range(len(xlabels)):\n",
    "    plt.bar(xlabels[i], acc_valid_minsplit[i])\n",
    "    plt.text(i-0.14, acc_valid_minsplit[i]+0.01, round(acc_valid_minsplit[i], 4))\n",
    "\n",
    "plt.ylim([0,1])\n",
    "plt.title(\"Model Decission Tree Optimasi\")\n",
    "plt.ylabel(\"Akurasi\")\n",
    "plt.xlabel(\"\\nMin Samples Split\")\n",
    "plt.show()"
   ]
  },
  {
   "cell_type": "markdown",
   "metadata": {},
   "source": [
    "**Kesimpulan:** <br>\n",
    "Prediksi paling bagus saat min samples splitnya 13 yaitu 84,92%"
   ]
  },
  {
   "cell_type": "markdown",
   "metadata": {},
   "source": [
    "#### Visualisasi Prediksi Optimasi Max Depth dan Min Samples Split"
   ]
  },
  {
   "cell_type": "code",
   "execution_count": 34,
   "metadata": {},
   "outputs": [
    {
     "data": {
      "image/png": "[encoded data removed]",
      "text/plain": [
       "<Figure size 720x432 with 1 Axes>"
      ]
     },
     "metadata": {
      "needs_background": "light"
     },
     "output_type": "display_data"
    }
   ],
   "source": [
    "plt.figure(figsize=(10,6))\n",
    "xlabels = [\"Max Dept 5\\nMin Split 13\", \"Max Dept 5\\nMin Split 17\", \n",
    "           \"Max Dept 7\\nMin Split 13\", \"Max Dept 7\\nMin Split 17\"]\n",
    "for i in range(len(xlabels)):\n",
    "    plt.bar(xlabels[i], acc_valid_dept_split[i])\n",
    "    plt.text(i-0.11, acc_valid_dept_split[i]+0.01, round(acc_valid_dept_split[i], 4))\n",
    "\n",
    "plt.ylim([0,1])\n",
    "plt.title(\"Model Decission Tree Optimasi\")\n",
    "plt.ylabel(\"Akurasi\")\n",
    "plt.xlabel(\"\\nParameter\")\n",
    "plt.show()"
   ]
  },
  {
   "cell_type": "markdown",
   "metadata": {},
   "source": [
    "**Kesimpulan:** <br>\n",
    "Prediksi untuk optimasi model Decission Tree Max Dept 7 dan Min Samples Split 13 cukup bagus yaitu 83,24%"
   ]
  }
 ],
 "metadata": {
  "kernelspec": {
   "display_name": "Python 3",
   "language": "python",
   "name": "python3"
  },
  "language_info": {
   "codemirror_mode": {
    "name": "ipython",
    "version": 3
   },
   "file_extension": ".py",
   "mimetype": "text/x-python",
   "name": "python",
   "nbconvert_exporter": "python",
   "pygments_lexer": "ipython3",
   "version": "3.7.0"
  }
 },
 "nbformat": 4,
 "nbformat_minor": 2
}
